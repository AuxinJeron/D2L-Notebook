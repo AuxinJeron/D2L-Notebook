{
 "cells": [
  {
   "cell_type": "markdown",
   "metadata": {},
   "source": [
    "###  18.1.3 Hyperplanes"
   ]
  },
  {
   "cell_type": "code",
   "execution_count": null,
   "metadata": {},
   "outputs": [],
   "source": [
    "import torch\n",
    "import torchvision\n",
    "from torchvision import transforms\n",
    "\n",
    "# Load in the dataset\n",
    "trans = []\n",
    "trans.append(transforms.ToTensor())\n",
    "trans = transforms.Compose(trans)\n",
    "train = torchvision.datasets.FashionMNIST(root=\"../data\", transform=trans,\n",
    "                                          train=True, download=True)\n",
    "test = torchvision.datasets.FashionMNIST(root=\"../data\", transform=trans,\n",
    "                                         train=False, download=True)\n",
    "\n",
    "# x[1] == 0 is t-shirt\n",
    "X_train_0 = torch.stack(\n",
    "    [x[0] * 256 for x in train if x[1] == 0]).type(torch.float32)\n",
    "# x[1] == 1 is trouser\n",
    "X_train_1 = torch.stack(\n",
    "    [x[0] * 256 for x in train if x[1] == 1]).type(torch.float32)\n",
    "X_test = torch.stack(\n",
    "    [x[0] * 256 for x in test if x[1] == 0 or x[1] == 1]).type(torch.float32)\n",
    "y_test = torch.stack([torch.tensor(x[1]) for x in test\n",
    "                      if x[1] == 0 or x[1] == 1]).type(torch.float32)\n",
    "\n",
    "# Compute averages\n",
    "ave_0 = torch.mean(X_train_0, axis=0)\n",
    "ave_1 = torch.mean(X_train_1, axis=0)"
   ]
  },
  {
   "cell_type": "code",
   "execution_count": null,
   "metadata": {},
   "outputs": [],
   "source": []
  }
 ],
 "metadata": {
  "kernelspec": {
   "display_name": "Python 3",
   "language": "python",
   "name": "python3"
  },
  "language_info": {
   "codemirror_mode": {
    "name": "ipython",
    "version": 3
   },
   "file_extension": ".py",
   "mimetype": "text/x-python",
   "name": "python",
   "nbconvert_exporter": "python",
   "pygments_lexer": "ipython3",
   "version": "3.8.3"
  }
 },
 "nbformat": 4,
 "nbformat_minor": 4
}
